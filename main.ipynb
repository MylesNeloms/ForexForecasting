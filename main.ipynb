{
 "cells": [
  {
   "cell_type": "markdown",
   "metadata": {},
   "source": [
    "#### This is a Jupyter notebook demonstrating using LongTerm-ShortTerm(LSTM) models to forecast foriegn exchange pair price change\n",
    "\n",
    "## TODO:\n",
    "1. Gather data\n",
    "2. Test for stabilization\n",
    "3. Preprocess data to improve stabilization\n",
    "4. Retest to prove stabilization\n",
    "5. Create input and target arrays for the model\n",
    "6. Create Model\n",
    "7. Train model on preprocessed dataset\n",
    "8. Predict target variable\n",
    "9. Post process data and display"
   ]
  },
  {
   "cell_type": "code",
   "execution_count": null,
   "metadata": {},
   "outputs": [],
   "source": []
  },
  {
   "cell_type": "markdown",
   "metadata": {},
   "source": []
  }
 ],
 "metadata": {
  "language_info": {
   "name": "python"
  }
 },
 "nbformat": 4,
 "nbformat_minor": 2
}
